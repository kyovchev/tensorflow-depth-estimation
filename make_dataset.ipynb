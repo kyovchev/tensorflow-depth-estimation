{
 "cells": [
  {
   "cell_type": "code",
   "execution_count": 1,
   "id": "d484e2bd-9241-4148-9b20-208b11f14b68",
   "metadata": {},
   "outputs": [],
   "source": [
    "%run utils/datasets.ipynb"
   ]
  },
  {
   "cell_type": "markdown",
   "id": "0f63ccaf-bdd8-4e04-a1c4-99833eddb55c",
   "metadata": {},
   "source": [
    "### Generate CSV for train data"
   ]
  },
  {
   "cell_type": "code",
   "execution_count": 2,
   "id": "ee44bc71-4aba-46a9-949a-9be360d3fde5",
   "metadata": {},
   "outputs": [],
   "source": [
    "write_csv(\"./datasets/nyu2/nyu2_train.csv\", \"/*/*.jpg\", (\".jpg\", \".png\"))"
   ]
  },
  {
   "cell_type": "markdown",
   "id": "efd2e1ff-e71d-4267-b219-6bd61bbc9ec4",
   "metadata": {},
   "source": [
    "### Generate CSV for test data"
   ]
  },
  {
   "cell_type": "code",
   "execution_count": 3,
   "id": "83ac4604-e723-4282-ab01-9410f135c4d2",
   "metadata": {},
   "outputs": [],
   "source": [
    "write_csv(\"./datasets/nyu2/nyu2_test.csv\", \"/*_colors.png\", (\"_colors.png\", \"_depth.png\"))"
   ]
  }
 ],
 "metadata": {
  "kernelspec": {
   "display_name": "Python 3 (ipykernel)",
   "language": "python",
   "name": "python3"
  },
  "language_info": {
   "codemirror_mode": {
    "name": "ipython",
    "version": 3
   },
   "file_extension": ".py",
   "mimetype": "text/x-python",
   "name": "python",
   "nbconvert_exporter": "python",
   "pygments_lexer": "ipython3",
   "version": "3.9.18"
  }
 },
 "nbformat": 4,
 "nbformat_minor": 5
}
