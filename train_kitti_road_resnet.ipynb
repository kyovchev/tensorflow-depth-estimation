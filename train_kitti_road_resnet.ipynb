{
 "cells": [
  {
   "cell_type": "code",
   "execution_count": 1,
   "id": "0f77dba3-f781-4fff-995d-f245a5af41a9",
   "metadata": {},
   "outputs": [],
   "source": [
    "HEIGHT = 128\n",
    "WIDTH = 128\n",
    "EPOCHS = 8\n",
    "BATCH_SIZE = 16\n",
    "TRAIN_CSV = \"D:/kitti_dataset/train/kitti_train.csv\""
   ]
  },
  {
   "cell_type": "code",
   "execution_count": 2,
   "id": "edb24f1f-9255-4b90-b82d-1f996824bdbb",
   "metadata": {},
   "outputs": [
    {
     "name": "stdout",
     "output_type": "stream",
     "text": [
      "Segmentation Models: using `keras` framework.\n"
     ]
    }
   ],
   "source": [
    "import numpy as np\n",
    "import tensorflow as tf\n",
    "from segmentation_models import Unet\n",
    "\n",
    "%run utils/datasets.ipynb\n",
    "\n",
    "%run utils/utils.ipynb"
   ]
  },
  {
   "cell_type": "code",
   "execution_count": 3,
   "id": "f9dd48f4-86fa-4145-b835-f74041e8d203",
   "metadata": {},
   "outputs": [],
   "source": [
    "partition, labels = load_train_csv(TRAIN_CSV)"
   ]
  },
  {
   "cell_type": "code",
   "execution_count": 4,
   "id": "c88d53d4-d4ac-4b25-9852-f5fad9f298b3",
   "metadata": {},
   "outputs": [],
   "source": [
    "# partition['train'] = partition['train'][:20000]\n",
    "# partition['validation'] = partition['validation'][:5000]"
   ]
  },
  {
   "cell_type": "code",
   "execution_count": 5,
   "id": "c07869e2-da84-4f4f-ab39-c7af3385b889",
   "metadata": {},
   "outputs": [
    {
     "name": "stdout",
     "output_type": "stream",
     "text": [
      "4539 1135\n"
     ]
    }
   ],
   "source": [
    "print(len(partition['train']), len(partition['validation']))"
   ]
  },
  {
   "cell_type": "code",
   "execution_count": 6,
   "id": "60f53e49-a05a-4970-8024-dc137ee6fccf",
   "metadata": {},
   "outputs": [],
   "source": [
    "training_generator = DataGenerator(list_IDs=partition['train'], labels=labels, batch_size=BATCH_SIZE,\n",
    "                                   dim=(HEIGHT, WIDTH), n_channels=3, shuffle=True, pred=False)\n",
    "validation_generator = DataGenerator(list_IDs=partition['validation'], labels=labels, batch_size=BATCH_SIZE,\n",
    "                                     dim=(HEIGHT, WIDTH), n_channels=3, shuffle=True, pred=False)"
   ]
  },
  {
   "cell_type": "code",
   "execution_count": 7,
   "id": "8f9f613c-174d-400e-9664-2e56377ca0ca",
   "metadata": {},
   "outputs": [],
   "source": [
    "model = Unet(\"resnet34\", input_shape=(HEIGHT,WIDTH,3), encoder_weights=\"imagenet\", encoder_freeze=False)"
   ]
  },
  {
   "cell_type": "code",
   "execution_count": 8,
   "id": "db5ebe1a-636a-40b5-be43-089078a0cd47",
   "metadata": {},
   "outputs": [],
   "source": [
    "# model.summary()"
   ]
  },
  {
   "cell_type": "code",
   "execution_count": 9,
   "id": "33fe2363-7db9-4251-be78-56c1c51f9236",
   "metadata": {},
   "outputs": [],
   "source": [
    "model.compile(optimizer=opt,\n",
    "              loss=lambda y_true, y_pred : gen_depth_loss(y_true, y_pred, (1.0, 3.0, 0.1)),\n",
    "              metrics=[depth_acc])"
   ]
  },
  {
   "cell_type": "code",
   "execution_count": 10,
   "id": "27d871dd-fbde-4be0-9bf0-e826d10da3c3",
   "metadata": {},
   "outputs": [
    {
     "name": "stdout",
     "output_type": "stream",
     "text": [
      "Epoch 1/8\n",
      "283/283 [==============================] - 50s 144ms/step - loss: 0.4536 - depth_acc: 0.6809 - val_loss: 0.4187 - val_depth_acc: 0.7935\n",
      "Epoch 2/8\n",
      "283/283 [==============================] - 40s 140ms/step - loss: 0.3616 - depth_acc: 0.8935 - val_loss: 0.3417 - val_depth_acc: 0.7980\n",
      "Epoch 3/8\n",
      "283/283 [==============================] - 40s 142ms/step - loss: 0.1726 - depth_acc: 0.9399 - val_loss: 0.1783 - val_depth_acc: 0.9138\n",
      "Epoch 4/8\n",
      "283/283 [==============================] - 40s 140ms/step - loss: 0.1306 - depth_acc: 0.9552 - val_loss: 0.1279 - val_depth_acc: 0.9548\n",
      "Epoch 5/8\n",
      "283/283 [==============================] - 40s 140ms/step - loss: 0.1255 - depth_acc: 0.9605 - val_loss: 0.1234 - val_depth_acc: 0.9611\n",
      "Epoch 6/8\n",
      "283/283 [==============================] - 40s 140ms/step - loss: 0.1221 - depth_acc: 0.9632 - val_loss: 0.1191 - val_depth_acc: 0.9664\n",
      "Epoch 7/8\n",
      "283/283 [==============================] - 39s 139ms/step - loss: 0.1193 - depth_acc: 0.9661 - val_loss: 0.1176 - val_depth_acc: 0.9668\n",
      "Epoch 8/8\n",
      "283/283 [==============================] - 40s 140ms/step - loss: 0.1171 - depth_acc: 0.9682 - val_loss: 0.1159 - val_depth_acc: 0.9689\n"
     ]
    }
   ],
   "source": [
    "r = model.fit(training_generator, validation_data=validation_generator, epochs=EPOCHS)"
   ]
  },
  {
   "cell_type": "code",
   "execution_count": 11,
   "id": "a0abaa59-ff2b-43b1-a0df-2e1c4acfe634",
   "metadata": {},
   "outputs": [
    {
     "name": "stdout",
     "output_type": "stream",
     "text": [
      "{'loss': [0.45359256863594055, 0.36162763833999634, 0.17258262634277344, 0.13062016665935516, 0.12549586594104767, 0.12214868515729904, 0.11934328824281693, 0.11705350130796432], 'depth_acc': [0.680898904800415, 0.8935346007347107, 0.9399465918540955, 0.9552440047264099, 0.9604898691177368, 0.9632474780082703, 0.9660665988922119, 0.9681907892227173], 'val_loss': [0.41873523592948914, 0.341666042804718, 0.17825385928153992, 0.1279265433549881, 0.12339740246534348, 0.11909215152263641, 0.1176222413778305, 0.11594775319099426], 'val_depth_acc': [0.7935470938682556, 0.7980354428291321, 0.9137923717498779, 0.9548430442810059, 0.9610506296157837, 0.9664074778556824, 0.9667608141899109, 0.9689213633537292]}\n"
     ]
    }
   ],
   "source": [
    "print(r.history)"
   ]
  },
  {
   "cell_type": "code",
   "execution_count": 12,
   "id": "f2592a49-f164-4c71-9196-a7dfb11da01e",
   "metadata": {},
   "outputs": [
    {
     "data": {
      "image/png": "[encoded data removed]",
      "text/plain": [
       "<Figure size 640x480 with 1 Axes>"
      ]
     },
     "metadata": {},
     "output_type": "display_data"
    }
   ],
   "source": [
    "plot_history(r.history)"
   ]
  },
  {
   "cell_type": "code",
   "execution_count": 13,
   "id": "f3da1064-0f60-421d-b1f2-6e58d77416d9",
   "metadata": {},
   "outputs": [
    {
     "name": "stdout",
     "output_type": "stream",
     "text": [
      "model_kitti_resnet_1709061839.keras\n"
     ]
    }
   ],
   "source": [
    "print(save_model('kitti_resnet', model))"
   ]
  }
 ],
 "metadata": {
  "kernelspec": {
   "display_name": "Python 3 (ipykernel)",
   "language": "python",
   "name": "python3"
  },
  "language_info": {
   "codemirror_mode": {
    "name": "ipython",
    "version": 3
   },
   "file_extension": ".py",
   "mimetype": "text/x-python",
   "name": "python",
   "nbconvert_exporter": "python",
   "pygments_lexer": "ipython3",
   "version": "3.9.18"
  }
 },
 "nbformat": 4,
 "nbformat_minor": 5
}
