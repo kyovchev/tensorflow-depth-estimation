{
 "cells": [
  {
   "cell_type": "code",
   "execution_count": 1,
   "id": "d4734e5c-a7fa-4599-bddf-802201ff1984",
   "metadata": {},
   "outputs": [],
   "source": [
    "WIDTH = 320\n",
    "HEIGHT = 240\n",
    "EPOCHS = 8\n",
    "BATCH_SIZE = 2\n",
    "TRAIN_CSV = \"D:/kitti_dataset/train/kitti_train.csv\""
   ]
  },
  {
   "cell_type": "code",
   "execution_count": 2,
   "id": "edb24f1f-9255-4b90-b82d-1f996824bdbb",
   "metadata": {},
   "outputs": [],
   "source": [
    "import numpy as np\n",
    "import tensorflow as tf\n",
    "from tensorflow.keras.layers import Input, Conv2D, MaxPooling2D, LeakyReLU, BatchNormalization, UpSampling2D, concatenate\n",
    "from tensorflow.keras.models import Model\n",
    "from tensorflow.keras.callbacks import LearningRateScheduler\n",
    "\n",
    "%run utils/datasets.ipynb\n",
    "%run utils/utils.ipynb"
   ]
  },
  {
   "cell_type": "code",
   "execution_count": 3,
   "id": "f9dd48f4-86fa-4145-b835-f74041e8d203",
   "metadata": {},
   "outputs": [],
   "source": [
    "partition, labels = load_train_csv(TRAIN_CSV)"
   ]
  },
  {
   "cell_type": "code",
   "execution_count": 4,
   "id": "27310164-5d5a-4019-b662-d8a98a717069",
   "metadata": {},
   "outputs": [],
   "source": [
    "# partition['train'] = partition['train'][:20000]\n",
    "# partition['validation'] = partition['validation'][:5000]"
   ]
  },
  {
   "cell_type": "code",
   "execution_count": 5,
   "id": "c07869e2-da84-4f4f-ab39-c7af3385b889",
   "metadata": {},
   "outputs": [
    {
     "name": "stdout",
     "output_type": "stream",
     "text": [
      "4539 1135\n"
     ]
    }
   ],
   "source": [
    "print(len(partition['train']), len(partition['validation']))"
   ]
  },
  {
   "cell_type": "code",
   "execution_count": 6,
   "id": "60f53e49-a05a-4970-8024-dc137ee6fccf",
   "metadata": {},
   "outputs": [],
   "source": [
    "training_generator = DataGenerator(list_IDs=partition['train'], labels=labels, batch_size=BATCH_SIZE,\n",
    "                                   dim=(HEIGHT, WIDTH), n_channels=3, shuffle=True, pred=False)\n",
    "validation_generator = DataGenerator(list_IDs=partition['validation'], labels=labels, batch_size=BATCH_SIZE,\n",
    "                                     dim=(HEIGHT, WIDTH), n_channels=3, shuffle=True, pred=False)"
   ]
  },
  {
   "cell_type": "code",
   "execution_count": 7,
   "id": "9dcdab1c-df83-47cb-bfb6-fab249a0e87b",
   "metadata": {},
   "outputs": [],
   "source": [
    "def downsampling_block(input_tensor, n_filters):\n",
    "    x = Conv2D(filters=n_filters, kernel_size=(3,3), padding='same')(input_tensor)\n",
    "    x = LeakyReLU(alpha=0.2)(x)\n",
    "    x = BatchNormalization()(x)\n",
    "\n",
    "    x = Conv2D(filters=n_filters, kernel_size=(3,3), padding='same')(x)\n",
    "    x = LeakyReLU(alpha=0.2)(x)\n",
    "    x = BatchNormalization()(x)\n",
    "    return x\n",
    "\n",
    "def upsampling_block(input_tensor, n_filters, name, concat_with):\n",
    "    x = UpSampling2D((2, 2), interpolation='bilinear', name=name)(input_tensor)\n",
    "    x = Conv2D(filters=n_filters, kernel_size=(3, 3), padding='same', name=name+\"_convA\")(x)\n",
    "    x = LeakyReLU(alpha=0.2)(x)\n",
    "\n",
    "    x = concatenate([x, concat_with], axis=3)\n",
    "\n",
    "    x = Conv2D(filters=n_filters, kernel_size=(3, 3), padding='same', name=name+\"_convB\")(x)\n",
    "    x = LeakyReLU(alpha=0.2)(x)\n",
    "    x = BatchNormalization()(x)\n",
    "\n",
    "    x = Conv2D(filters=n_filters, kernel_size=(3, 3), padding='same', name=name+\"_convC\")(x)\n",
    "    x = LeakyReLU(alpha=0.2)(x)\n",
    "    x = BatchNormalization()(x)\n",
    "    return x"
   ]
  },
  {
   "cell_type": "code",
   "execution_count": 8,
   "id": "9c8642c0-ae48-4dfe-96b5-b5cd0950858f",
   "metadata": {},
   "outputs": [],
   "source": [
    "def build(height, width, depth):\n",
    "    # input\n",
    "    i = Input(shape=(height, width, depth))\n",
    "\n",
    "    # encoder\n",
    "    conv1 = downsampling_block(i, 32)\n",
    "    pool1 = MaxPooling2D(pool_size=(2, 2))(conv1)\n",
    "    conv2 = downsampling_block(pool1, 64)\n",
    "    pool2 = MaxPooling2D(pool_size=(2, 2))(conv2)\n",
    "    conv3 = downsampling_block(pool2, 128)\n",
    "    pool3 = MaxPooling2D(pool_size=(2, 2))(conv3)\n",
    "    conv4 = downsampling_block(pool3, 256)\n",
    "    pool4 = MaxPooling2D(pool_size=(2, 2))(conv4)\n",
    "    \n",
    "    # bottleneck\n",
    "    conv5 = Conv2D(512, (3, 3), padding='same')(pool4)\n",
    "    conv5 = LeakyReLU(alpha=0.2)(conv5)\n",
    "    conv5 = Conv2D(512, (3, 3), padding='same')(conv5)\n",
    "    conv5 = LeakyReLU(alpha=0.2)(conv5)\n",
    "    \n",
    "    # decoder\n",
    "    conv6 = upsampling_block(conv5, 256, \"up1\", concat_with=conv4)\n",
    "    conv7 = upsampling_block(conv6, 128, \"up2\", concat_with=conv3)\n",
    "    conv8 = upsampling_block(conv7, 64, \"up3\", concat_with=conv2)\n",
    "    conv9 = upsampling_block(conv8, 32, \"up4\", concat_with=conv1)\n",
    "    \n",
    "    # output\n",
    "    o = Conv2D(filters=1, kernel_size=3, strides=(1,1), activation='sigmoid', padding='same', name='conv10')(conv9)\n",
    "\n",
    "    model = Model(inputs=i, outputs=o)\n",
    "    return model"
   ]
  },
  {
   "cell_type": "code",
   "execution_count": 9,
   "id": "2a2bed1d-2735-49d6-86b6-bbd14e14a4fd",
   "metadata": {},
   "outputs": [],
   "source": [
    "model = build(HEIGHT, WIDTH, 3)"
   ]
  },
  {
   "cell_type": "code",
   "execution_count": 10,
   "id": "db5ebe1a-636a-40b5-be43-089078a0cd47",
   "metadata": {},
   "outputs": [],
   "source": [
    "# model.summary()"
   ]
  },
  {
   "cell_type": "code",
   "execution_count": 11,
   "id": "33fe2363-7db9-4251-be78-56c1c51f9236",
   "metadata": {},
   "outputs": [],
   "source": [
    "model.compile(optimizer=opt,\n",
    "              loss=lambda y_true, y_pred : gen_depth_loss(y_true, y_pred, (1.0,1.0,0.1)),\n",
    "              metrics=[depth_acc])"
   ]
  },
  {
   "cell_type": "code",
   "execution_count": 12,
   "id": "8d1f8001-c823-465e-b7ad-cd45e10d3472",
   "metadata": {},
   "outputs": [],
   "source": [
    "def poly_decay(epoch):\n",
    "    maxEpochs = EPOCHS\n",
    "    baseLR = INIT_LEARNING_RATE\n",
    "    power = 1.0\n",
    "    alpha = baseLR * (1 - (epoch / float(maxEpochs))) ** power\n",
    "    return alpha"
   ]
  },
  {
   "cell_type": "code",
   "execution_count": 13,
   "id": "27d871dd-fbde-4be0-9bf0-e826d10da3c3",
   "metadata": {},
   "outputs": [
    {
     "name": "stdout",
     "output_type": "stream",
     "text": [
      "Epoch 1/8\n",
      "2269/2269 [==============================] - 305s 132ms/step - loss: 0.1476 - depth_acc: 0.9163 - val_loss: 0.1286 - val_depth_acc: 0.9315 - lr: 1.0000e-04\n",
      "Epoch 2/8\n",
      "2269/2269 [==============================] - 301s 133ms/step - loss: 0.1269 - depth_acc: 0.9361 - val_loss: 0.1225 - val_depth_acc: 0.9386 - lr: 8.7500e-05\n",
      "Epoch 3/8\n",
      "2269/2269 [==============================] - 305s 134ms/step - loss: 0.1231 - depth_acc: 0.9424 - val_loss: 0.1215 - val_depth_acc: 0.9422 - lr: 7.5000e-05\n",
      "Epoch 4/8\n",
      "2269/2269 [==============================] - 309s 136ms/step - loss: 0.1210 - depth_acc: 0.9455 - val_loss: 0.1198 - val_depth_acc: 0.9465 - lr: 6.2500e-05\n",
      "Epoch 5/8\n",
      "2269/2269 [==============================] - 307s 135ms/step - loss: 0.1200 - depth_acc: 0.9466 - val_loss: 0.1169 - val_depth_acc: 0.9449 - lr: 5.0000e-05\n",
      "Epoch 6/8\n",
      "2269/2269 [==============================] - 307s 135ms/step - loss: 0.1184 - depth_acc: 0.9500 - val_loss: 0.1170 - val_depth_acc: 0.9458 - lr: 3.7500e-05\n",
      "Epoch 7/8\n",
      "2269/2269 [==============================] - 308s 136ms/step - loss: 0.1168 - depth_acc: 0.9529 - val_loss: 0.1141 - val_depth_acc: 0.9544 - lr: 2.5000e-05\n",
      "Epoch 8/8\n",
      "2269/2269 [==============================] - 307s 135ms/step - loss: 0.1159 - depth_acc: 0.9546 - val_loss: 0.1135 - val_depth_acc: 0.9532 - lr: 1.2500e-05\n"
     ]
    }
   ],
   "source": [
    "r = model.fit(training_generator, validation_data=validation_generator,\n",
    "              epochs=EPOCHS, callbacks=[LearningRateScheduler(poly_decay)])"
   ]
  },
  {
   "cell_type": "code",
   "execution_count": 14,
   "id": "a0abaa59-ff2b-43b1-a0df-2e1c4acfe634",
   "metadata": {},
   "outputs": [
    {
     "name": "stdout",
     "output_type": "stream",
     "text": [
      "{'loss': [0.14759553968906403, 0.12690699100494385, 0.12312936037778854, 0.1209644004702568, 0.1200246512889862, 0.11839473992586136, 0.11684003472328186, 0.11587797105312347], 'depth_acc': [0.9162894487380981, 0.9360592365264893, 0.9423869848251343, 0.9455371499061584, 0.9465516209602356, 0.9500418901443481, 0.9528895616531372, 0.9545711278915405], 'val_loss': [0.12863679230213165, 0.12248637527227402, 0.12147206813097, 0.1197609081864357, 0.11689545959234238, 0.11698704957962036, 0.11410137265920639, 0.11354225128889084], 'val_depth_acc': [0.9314936995506287, 0.9386388063430786, 0.9421502947807312, 0.9464651942253113, 0.9448509216308594, 0.9457865953445435, 0.9544270038604736, 0.9531856179237366], 'lr': [1e-04, 8.75e-05, 7.5e-05, 6.25e-05, 5e-05, 3.75e-05, 2.5e-05, 1.25e-05]}\n"
     ]
    }
   ],
   "source": [
    "print(r.history)"
   ]
  },
  {
   "cell_type": "code",
   "execution_count": 15,
   "id": "f2592a49-f164-4c71-9196-a7dfb11da01e",
   "metadata": {},
   "outputs": [
    {
     "data": {
      "image/png": "[encoded data removed]",
      "text/plain": [
       "<Figure size 640x480 with 1 Axes>"
      ]
     },
     "metadata": {},
     "output_type": "display_data"
    }
   ],
   "source": [
    "plot_history(r.history)"
   ]
  },
  {
   "cell_type": "code",
   "execution_count": 16,
   "id": "f3da1064-0f60-421d-b1f2-6e58d77416d9",
   "metadata": {},
   "outputs": [
    {
     "name": "stdout",
     "output_type": "stream",
     "text": [
      "model_kitti_unet_1709064377.keras\n"
     ]
    }
   ],
   "source": [
    "print(save_model('kitti_unet', model))"
   ]
  }
 ],
 "metadata": {
  "kernelspec": {
   "display_name": "Python 3 (ipykernel)",
   "language": "python",
   "name": "python3"
  },
  "language_info": {
   "codemirror_mode": {
    "name": "ipython",
    "version": 3
   },
   "file_extension": ".py",
   "mimetype": "text/x-python",
   "name": "python",
   "nbconvert_exporter": "python",
   "pygments_lexer": "ipython3",
   "version": "3.9.18"
  }
 },
 "nbformat": 4,
 "nbformat_minor": 5
}
