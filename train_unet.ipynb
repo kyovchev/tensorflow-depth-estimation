{
 "cells": [
  {
   "cell_type": "code",
   "execution_count": 1,
   "id": "d4734e5c-a7fa-4599-bddf-802201ff1984",
   "metadata": {},
   "outputs": [],
   "source": [
    "WIDTH = 320\n",
    "HEIGHT = 240\n",
    "EPOCHS = 10\n",
    "BATCH_SIZE = 4\n",
    "TRAIN_CSV = \"./datasets/data/nyu2_train.csv\""
   ]
  },
  {
   "cell_type": "code",
   "execution_count": 2,
   "id": "edb24f1f-9255-4b90-b82d-1f996824bdbb",
   "metadata": {},
   "outputs": [],
   "source": [
    "import numpy as np\n",
    "import tensorflow as tf\n",
    "from tensorflow.keras.layers import Input, Conv2D, MaxPooling2D, LeakyReLU, BatchNormalization, UpSampling2D, concatenate\n",
    "from tensorflow.keras.models import Model\n",
    "from tensorflow.keras.callbacks import LearningRateScheduler\n",
    "\n",
    "%run utils/datasets.ipynb\n",
    "%run utils/utils.ipynb"
   ]
  },
  {
   "cell_type": "code",
   "execution_count": 3,
   "id": "f9dd48f4-86fa-4145-b835-f74041e8d203",
   "metadata": {},
   "outputs": [],
   "source": [
    "partition, labels = load_train_csv(TRAIN_CSV)"
   ]
  },
  {
   "cell_type": "code",
   "execution_count": 4,
   "id": "27310164-5d5a-4019-b662-d8a98a717069",
   "metadata": {},
   "outputs": [],
   "source": [
    "partition['train'] = partition['train'][:20000]\n",
    "partition['validation'] = partition['validation'][:5000]"
   ]
  },
  {
   "cell_type": "code",
   "execution_count": 5,
   "id": "c07869e2-da84-4f4f-ab39-c7af3385b889",
   "metadata": {},
   "outputs": [
    {
     "name": "stdout",
     "output_type": "stream",
     "text": [
      "20000 5000\n"
     ]
    }
   ],
   "source": [
    "print(len(partition['train']), len(partition['validation']))"
   ]
  },
  {
   "cell_type": "code",
   "execution_count": 6,
   "id": "60f53e49-a05a-4970-8024-dc137ee6fccf",
   "metadata": {},
   "outputs": [],
   "source": [
    "training_generator = DataGenerator(list_IDs=partition['train'], labels=labels, batch_size=BATCH_SIZE,\n",
    "                                   dim=(HEIGHT, WIDTH), n_channels=3, shuffle=True, pred=False)\n",
    "validation_generator = DataGenerator(list_IDs=partition['validation'], labels=labels, batch_size=BATCH_SIZE,\n",
    "                                     dim=(HEIGHT, WIDTH), n_channels=3, shuffle=True, pred=False)"
   ]
  },
  {
   "cell_type": "code",
   "execution_count": 7,
   "id": "9dcdab1c-df83-47cb-bfb6-fab249a0e87b",
   "metadata": {},
   "outputs": [],
   "source": [
    "def downsampling_block(input_tensor, n_filters):\n",
    "    x = Conv2D(filters=n_filters, kernel_size=(3,3), padding='same')(input_tensor)\n",
    "    x = LeakyReLU(alpha=0.2)(x)\n",
    "    x = BatchNormalization()(x)\n",
    "\n",
    "    x = Conv2D(filters=n_filters, kernel_size=(3,3), padding='same')(x)\n",
    "    x = LeakyReLU(alpha=0.2)(x)\n",
    "    x = BatchNormalization()(x)\n",
    "    return x\n",
    "\n",
    "def upsampling_block(input_tensor, n_filters, name, concat_with):\n",
    "    x = UpSampling2D((2, 2), interpolation='bilinear', name=name)(input_tensor)\n",
    "    x = Conv2D(filters=n_filters, kernel_size=(3, 3), padding='same', name=name+\"_convA\")(x)\n",
    "    x = LeakyReLU(alpha=0.2)(x)\n",
    "\n",
    "    x = concatenate([x, concat_with], axis=3)\n",
    "\n",
    "    x = Conv2D(filters=n_filters, kernel_size=(3, 3), padding='same', name=name+\"_convB\")(x)\n",
    "    x = LeakyReLU(alpha=0.2)(x)\n",
    "    x = BatchNormalization()(x)\n",
    "\n",
    "    x = Conv2D(filters=n_filters, kernel_size=(3, 3), padding='same', name=name+\"_convC\")(x)\n",
    "    x = LeakyReLU(alpha=0.2)(x)\n",
    "    x = BatchNormalization()(x)\n",
    "    return x"
   ]
  },
  {
   "cell_type": "code",
   "execution_count": 8,
   "id": "9c8642c0-ae48-4dfe-96b5-b5cd0950858f",
   "metadata": {},
   "outputs": [],
   "source": [
    "def build(height, width, depth):\n",
    "    # input\n",
    "    i = Input(shape=(height, width, depth))\n",
    "\n",
    "    # encoder\n",
    "    conv1 = downsampling_block(i, 32)\n",
    "    pool1 = MaxPooling2D(pool_size=(2, 2))(conv1)\n",
    "    conv2 = downsampling_block(pool1, 64)\n",
    "    pool2 = MaxPooling2D(pool_size=(2, 2))(conv2)\n",
    "    conv3 = downsampling_block(pool2, 128)\n",
    "    pool3 = MaxPooling2D(pool_size=(2, 2))(conv3)\n",
    "    conv4 = downsampling_block(pool3, 256)\n",
    "    pool4 = MaxPooling2D(pool_size=(2, 2))(conv4)\n",
    "    \n",
    "    # bottleneck\n",
    "    conv5 = Conv2D(512, (3, 3), padding='same')(pool4)\n",
    "    conv5 = LeakyReLU(alpha=0.2)(conv5)\n",
    "    conv5 = Conv2D(512, (3, 3), padding='same')(conv5)\n",
    "    conv5 = LeakyReLU(alpha=0.2)(conv5)\n",
    "    \n",
    "    # decoder\n",
    "    conv6 = upsampling_block(conv5, 256, \"up1\", concat_with=conv4)\n",
    "    conv7 = upsampling_block(conv6, 128, \"up2\", concat_with=conv3)\n",
    "    conv8 = upsampling_block(conv7, 64, \"up3\", concat_with=conv2)\n",
    "    conv9 = upsampling_block(conv8, 32, \"up4\", concat_with=conv1)\n",
    "    \n",
    "    # output\n",
    "    o = Conv2D(filters=1, kernel_size=3, strides=(1,1), activation='sigmoid', padding='same', name='conv10')(conv9)\n",
    "\n",
    "    model = Model(inputs=i, outputs=o)\n",
    "    return model"
   ]
  },
  {
   "cell_type": "code",
   "execution_count": 9,
   "id": "2a2bed1d-2735-49d6-86b6-bbd14e14a4fd",
   "metadata": {},
   "outputs": [],
   "source": [
    "model = build(HEIGHT, WIDTH, 3)"
   ]
  },
  {
   "cell_type": "code",
   "execution_count": 10,
   "id": "db5ebe1a-636a-40b5-be43-089078a0cd47",
   "metadata": {},
   "outputs": [],
   "source": [
    "# model.summary()"
   ]
  },
  {
   "cell_type": "code",
   "execution_count": 11,
   "id": "33fe2363-7db9-4251-be78-56c1c51f9236",
   "metadata": {},
   "outputs": [],
   "source": [
    "model.compile(optimizer=opt,\n",
    "              loss=lambda y_true, y_pred : gen_depth_loss(y_true, y_pred, (1.0,1.0,0.1)),\n",
    "              metrics=[depth_acc])"
   ]
  },
  {
   "cell_type": "code",
   "execution_count": 12,
   "id": "8d1f8001-c823-465e-b7ad-cd45e10d3472",
   "metadata": {},
   "outputs": [],
   "source": [
    "def poly_decay(epoch):\n",
    "    maxEpochs = EPOCHS\n",
    "    baseLR = INIT_LEARNING_RATE\n",
    "    power = 1.0\n",
    "    alpha = baseLR * (1 - (epoch / float(maxEpochs))) ** power\n",
    "    return alpha"
   ]
  },
  {
   "cell_type": "code",
   "execution_count": 13,
   "id": "27d871dd-fbde-4be0-9bf0-e826d10da3c3",
   "metadata": {},
   "outputs": [
    {
     "name": "stdout",
     "output_type": "stream",
     "text": [
      "Epoch 1/10\n",
      "5000/5000 [==============================] - 1212s 241ms/step - loss: 0.1745 - depth_acc: 0.7245 - val_loss: 0.1594 - val_depth_acc: 0.7437 - lr: 1.0000e-04\n",
      "Epoch 2/10\n",
      "5000/5000 [==============================] - 1195s 239ms/step - loss: 0.1542 - depth_acc: 0.7681 - val_loss: 0.1641 - val_depth_acc: 0.7676 - lr: 9.0000e-05\n",
      "Epoch 3/10\n",
      "5000/5000 [==============================] - 1204s 241ms/step - loss: 0.1435 - depth_acc: 0.7911 - val_loss: 0.1370 - val_depth_acc: 0.7950 - lr: 8.0000e-05\n",
      "Epoch 4/10\n",
      "5000/5000 [==============================] - 1202s 240ms/step - loss: 0.1343 - depth_acc: 0.8092 - val_loss: 0.1295 - val_depth_acc: 0.8264 - lr: 7.0000e-05\n",
      "Epoch 5/10\n",
      "5000/5000 [==============================] - 1204s 241ms/step - loss: 0.1263 - depth_acc: 0.8247 - val_loss: 0.1248 - val_depth_acc: 0.8134 - lr: 6.0000e-05\n",
      "Epoch 6/10\n",
      "5000/5000 [==============================] - 1208s 242ms/step - loss: 0.1189 - depth_acc: 0.8366 - val_loss: 0.1139 - val_depth_acc: 0.8502 - lr: 5.0000e-05\n",
      "Epoch 7/10\n",
      "5000/5000 [==============================] - 1205s 241ms/step - loss: 0.1124 - depth_acc: 0.8493 - val_loss: 0.1095 - val_depth_acc: 0.8597 - lr: 4.0000e-05\n",
      "Epoch 8/10\n",
      "5000/5000 [==============================] - 1202s 240ms/step - loss: 0.1069 - depth_acc: 0.8594 - val_loss: 0.1049 - val_depth_acc: 0.8691 - lr: 3.0000e-05\n",
      "Epoch 9/10\n",
      "5000/5000 [==============================] - 1204s 241ms/step - loss: 0.1023 - depth_acc: 0.8682 - val_loss: 0.1011 - val_depth_acc: 0.8774 - lr: 2.0000e-05\n",
      "Epoch 10/10\n",
      "5000/5000 [==============================] - 1218s 244ms/step - loss: 0.0984 - depth_acc: 0.8749 - val_loss: 0.0980 - val_depth_acc: 0.8845 - lr: 1.0000e-05\n"
     ]
    }
   ],
   "source": [
    "r = model.fit(training_generator, validation_data=validation_generator,\n",
    "              epochs=EPOCHS, callbacks=[LearningRateScheduler(poly_decay)])"
   ]
  },
  {
   "cell_type": "code",
   "execution_count": 14,
   "id": "a0abaa59-ff2b-43b1-a0df-2e1c4acfe634",
   "metadata": {},
   "outputs": [
    {
     "name": "stdout",
     "output_type": "stream",
     "text": [
      "{'loss': [0.1744740903377533, 0.1542266309261322, 0.14345626533031464, 0.1343187540769577, 0.1262846142053604, 0.11892294883728027, 0.11237866431474686, 0.10693126171827316, 0.10227286070585251, 0.09840573370456696], 'depth_acc': [0.724479615688324, 0.7680643796920776, 0.7911401391029358, 0.8092215061187744, 0.8246686458587646, 0.8366309404373169, 0.8493178486824036, 0.8593849539756775, 0.8682068586349487, 0.8749191164970398], 'val_loss': [0.15938441455364227, 0.16405999660491943, 0.13700909912586212, 0.12952665984630585, 0.12484180927276611, 0.11392129957675934, 0.10945440828800201, 0.10493035614490509, 0.10107073932886124, 0.09800591319799423], 'val_depth_acc': [0.7437363266944885, 0.7675524950027466, 0.7949947714805603, 0.8264250159263611, 0.8133983016014099, 0.8502021431922913, 0.8597205281257629, 0.8691275119781494, 0.8774094581604004, 0.8844792246818542], 'lr': [1e-04, 9e-05, 8e-05, 7e-05, 6e-05, 5e-05, 4e-05, 3e-05, 2e-05, 1e-05]}\n"
     ]
    }
   ],
   "source": [
    "print(r.history)"
   ]
  },
  {
   "cell_type": "code",
   "execution_count": 15,
   "id": "f2592a49-f164-4c71-9196-a7dfb11da01e",
   "metadata": {},
   "outputs": [
    {
     "data": {
      "image/png": "[encoded data removed]",
      "text/plain": [
       "<Figure size 640x480 with 1 Axes>"
      ]
     },
     "metadata": {},
     "output_type": "display_data"
    }
   ],
   "source": [
    "plot_history(r.history)"
   ]
  },
  {
   "cell_type": "code",
   "execution_count": 16,
   "id": "f3da1064-0f60-421d-b1f2-6e58d77416d9",
   "metadata": {},
   "outputs": [
    {
     "name": "stdout",
     "output_type": "stream",
     "text": [
      "model_unet_1708465933.keras\n"
     ]
    }
   ],
   "source": [
    "print(save_model('unet', model))"
   ]
  }
 ],
 "metadata": {
  "kernelspec": {
   "display_name": "Python 3 (ipykernel)",
   "language": "python",
   "name": "python3"
  },
  "language_info": {
   "codemirror_mode": {
    "name": "ipython",
    "version": 3
   },
   "file_extension": ".py",
   "mimetype": "text/x-python",
   "name": "python",
   "nbconvert_exporter": "python",
   "pygments_lexer": "ipython3",
   "version": "3.9.18"
  }
 },
 "nbformat": 4,
 "nbformat_minor": 5
}
