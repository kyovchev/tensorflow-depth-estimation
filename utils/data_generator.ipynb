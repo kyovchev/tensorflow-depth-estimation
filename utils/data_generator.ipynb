{
 "cells": [
  {
   "cell_type": "code",
   "execution_count": 1,
   "id": "26e87353-f246-485d-9b4d-101d11b0627f",
   "metadata": {},
   "outputs": [],
   "source": [
    "INIT_LEARNING_RATE = 0.0001"
   ]
  },
  {
   "cell_type": "code",
   "execution_count": 2,
   "id": "c2fdcf3c-c8a7-470e-b1f2-16e45c79d575",
   "metadata": {},
   "outputs": [],
   "source": [
    "from tensorflow.keras.utils import Sequence\n",
    "from tensorflow.keras.optimizers import Adam"
   ]
  },
  {
   "cell_type": "code",
   "execution_count": 3,
   "id": "9a3cda2a-02d1-4e9f-b97b-ad23a9791db6",
   "metadata": {},
   "outputs": [],
   "source": [
    "opt = Adam(learning_rate=INIT_LEARNING_RATE, amsgrad=True)"
   ]
  },
  {
   "cell_type": "code",
   "execution_count": 4,
   "id": "b279baea-46b0-486f-a992-f4e7b91912a3",
   "metadata": {},
   "outputs": [],
   "source": [
    "def depth_loss(y_true, y_pred):\n",
    "    w1, w2, w3 = 1.0, 3.0, 0.1\n",
    "    \n",
    "    l_depth = K.mean(K.abs(y_pred - y_true), axis=-1)\n",
    "    \n",
    "    dy_true, dx_true = tf.image.image_gradients(y_true)\n",
    "    dy_pred, dx_pred = tf.image.image_gradients(y_pred)\n",
    "    l_edges = K.mean(K.abs(dy_pred - dy_true) + K.abs(dx_pred - dx_true), axis=-1)\n",
    "    print(l_edges)\n",
    "    \n",
    "    l_ssim = K.clip((1 - tf.image.ssim(y_true, y_pred, 1.0)) * 0.5, 0, 1)\n",
    "    \n",
    "    return (w1 * l_ssim) + (w2 * K.mean(l_edges)) + (w3 * K.mean(l_depth))"
   ]
  },
  {
   "cell_type": "code",
   "execution_count": 5,
   "id": "956aedac-4ac2-498d-aa51-7bd27298d1c3",
   "metadata": {},
   "outputs": [],
   "source": [
    "def depth_acc(y_true, y_pred):\n",
    "    return K.mean(K.equal(K.round(y_true), K.round(y_pred)))"
   ]
  },
  {
   "cell_type": "code",
   "execution_count": 6,
   "id": "cb6bcbfe-b0c8-4ea8-aa96-9f8f7c3d2c03",
   "metadata": {},
   "outputs": [],
   "source": [
    "class DataGenerator(Sequence):\n",
    "    def __init__(self, list_IDs, labels, batch_size=16, dim=(128, 128), n_channels=3, shuffle=True, pred=False):\n",
    "        self.dim = dim\n",
    "        self.batch_size = batch_size\n",
    "        self.labels = labels\n",
    "        self.list_IDs = list_IDs\n",
    "        self.n_channels = n_channels\n",
    "        self.shuffle = shuffle\n",
    "        self.pred = pred\n",
    "        self.on_epoch_end()\n",
    "\n",
    "    def __len__(self):\n",
    "        return int(np.floor(len(self.list_IDs) / self.batch_size))\n",
    "    \n",
    "    def __getitem__(self, index):\n",
    "        indexes = self.indexes[index * self.batch_size : (index + 1) * self.batch_size]\n",
    "        list_IDs_temp = [self.list_IDs[k] for k in indexes]\n",
    "        if self.pred:\n",
    "            X = self.__data_generation(list_IDs_temp)\n",
    "            return X\n",
    "        X, y = self.__data_generation(list_IDs_temp)\n",
    "        return X, y\n",
    "    \n",
    "    def on_epoch_end(self):\n",
    "        self.indexes = np.arange(len(self.list_IDs))\n",
    "        if self.shuffle == True:\n",
    "            np.random.shuffle(self.indexes)\n",
    "    \n",
    "    def __data_generation(self, list_IDs_temp):\n",
    "        X = np.empty((self.batch_size, self.dim[0], self.dim[1], self.n_channels))\n",
    "        \n",
    "        if not self.pred:\n",
    "            y = np.empty((self.batch_size, self.dim[0], self.dim[1], 1))\n",
    "        \n",
    "            for i, ID in enumerate(list_IDs_temp):\n",
    "                res = random.choice([True, False])\n",
    "                X[i,] = preprocess_image(ID, res)\n",
    "                y[i,] = preprocess_depth_map(self.labels[ID], res)\n",
    "            return X, y\n",
    "        else:\n",
    "            for i, ID in enumerate(list_IDs_temp):\n",
    "                res = random.choice([True, False])\n",
    "                X[i,] = preprocess_image(ID, res)\n",
    "            return X"
   ]
  }
 ],
 "metadata": {
  "kernelspec": {
   "display_name": "Python 3 (ipykernel)",
   "language": "python",
   "name": "python3"
  },
  "language_info": {
   "codemirror_mode": {
    "name": "ipython",
    "version": 3
   },
   "file_extension": ".py",
   "mimetype": "text/x-python",
   "name": "python",
   "nbconvert_exporter": "python",
   "pygments_lexer": "ipython3",
   "version": "3.9.18"
  }
 },
 "nbformat": 4,
 "nbformat_minor": 5
}
