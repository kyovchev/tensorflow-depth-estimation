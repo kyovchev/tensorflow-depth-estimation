{
 "cells": [
  {
   "cell_type": "code",
   "execution_count": 1,
   "id": "eefecd2b-cf79-42bf-addd-0a445e96c616",
   "metadata": {},
   "outputs": [],
   "source": [
    "import os\n",
    "import csv\n",
    "from glob import glob\n",
    "import cv2\n",
    "import imutils"
   ]
  },
  {
   "cell_type": "code",
   "execution_count": 2,
   "id": "34b1545b-a523-4e2e-9158-91cd35b7bb36",
   "metadata": {},
   "outputs": [],
   "source": [
    "def read_csv(file_path):\n",
    "    parent_folder = file_path.rsplit('/', 1)[0]\n",
    "    with open(file_path, 'r') as f:\n",
    "        reader = csv.reader(f, delimiter=',')\n",
    "        return [(parent_folder + '/' + row[0], \n",
    "                 parent_folder + '/' + row[1]) for row in csv.reader(f, delimiter=',') if len(row) > 0]"
   ]
  },
  {
   "cell_type": "code",
   "execution_count": 3,
   "id": "bdc7f248-3194-4539-87bf-332cf9c2d0e9",
   "metadata": {},
   "outputs": [],
   "source": [
    "#read_csv(\"../datasets/nyu2/nyu2_test.csv\")"
   ]
  },
  {
   "cell_type": "code",
   "execution_count": 4,
   "id": "899f40f8-0cf7-4188-873f-50e9a12cff21",
   "metadata": {},
   "outputs": [],
   "source": [
    "def write_csv(file_path, file_selector=\"/*/*.jpg\", depth_extension=(\".jpg\", \".png\")):\n",
    "    data_folder = file_path.rsplit('.', 1)[0]\n",
    "    data_parent_folder = file_path.rsplit('/', 1)[0].replace('/', os.sep)\n",
    "\n",
    "    def generate_row(image_path):\n",
    "        image_path = image_path[len(data_parent_folder) + 1:].replace(os.sep, '/')\n",
    "        return [image_path, image_path[:-len(depth_extension[0])] + depth_extension[1]]\n",
    "\n",
    "    images = glob((data_folder + file_selector).replace('/', os.sep))\n",
    "    images.sort(key=lambda e: e.split(os.sep)[-1].split('.')[0])\n",
    "\n",
    "    with open(file_path, 'w', newline='') as f:\n",
    "        csv.writer(f, delimiter=',').writerows(\n",
    "            [generate_row(image) for image in images])"
   ]
  },
  {
   "cell_type": "code",
   "execution_count": 5,
   "id": "8ef0c9c6-0b3d-4be7-880e-c075240f850e",
   "metadata": {},
   "outputs": [],
   "source": [
    "#write_csv(\"../datasets/nyu2/nyu2_train.csv\", \"/*/*.jpg\", (\".jpg\", \".png\"))\n",
    "#write_csv(\"../datasets/nyu2/nyu2_test.csv\", \"/*_colors.png\", (\"_colors.png\", \"_depth.png\"))"
   ]
  },
  {
   "cell_type": "code",
   "execution_count": 6,
   "id": "d604c201-a583-403f-a5b7-508169e202c0",
   "metadata": {},
   "outputs": [],
   "source": [
    "def preprocess_image(path, w=128, h=128, depth=False, horizontal_flip=False):\n",
    "    image = cv2.imread(path)\n",
    "    if depth:\n",
    "        image = cv2.cvtColor(image, cv2.COLOR_BGR2GRAY)\n",
    "    image = imutils.resize(image, height=h)\n",
    "    image_w = image.shape[1]\n",
    "    image = image[:, (image_w - w) // 2 : (w + image_w) // 2].astype(\"float\")\n",
    "\n",
    "    if depth:\n",
    "        image = np.reshape(image, (image.shape[0], image.shape[1], 1))\n",
    "    \n",
    "    return (image - image.min()) / (image.max() - image.min())"
   ]
  }
 ],
 "metadata": {
  "kernelspec": {
   "display_name": "Python 3 (ipykernel)",
   "language": "python",
   "name": "python3"
  },
  "language_info": {
   "codemirror_mode": {
    "name": "ipython",
    "version": 3
   },
   "file_extension": ".py",
   "mimetype": "text/x-python",
   "name": "python",
   "nbconvert_exporter": "python",
   "pygments_lexer": "ipython3",
   "version": "3.9.18"
  }
 },
 "nbformat": 4,
 "nbformat_minor": 5
}
