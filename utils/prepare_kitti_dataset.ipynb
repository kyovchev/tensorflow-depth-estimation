{
 "cells": [
  {
   "cell_type": "code",
   "execution_count": 1,
   "id": "d8d6ec2e-2a9e-427e-8997-8bc18cc8fe4a",
   "metadata": {},
   "outputs": [],
   "source": [
    "import cv2\n",
    "import numpy as np\n",
    "import matplotlib.pyplot as plt\n",
    "import os\n",
    "import glob"
   ]
  },
  {
   "cell_type": "code",
   "execution_count": 2,
   "id": "7fce3ee7-2599-4680-9680-74ab12030a8e",
   "metadata": {},
   "outputs": [
    {
     "name": "stdout",
     "output_type": "stream",
     "text": [
      "False\n"
     ]
    }
   ],
   "source": [
    "print(os.path.isfile(\"D:/kitti_dataset/data/2011_09_26_drive_0015_sync/depth/0000000253.png\"))"
   ]
  },
  {
   "cell_type": "code",
   "execution_count": 3,
   "id": "cbc19c95-fc66-44a6-bda3-3888f2734bf3",
   "metadata": {},
   "outputs": [
    {
     "name": "stdout",
     "output_type": "stream",
     "text": [
      "D:/kitti_dataset/data/2011_09_26_drive_0015_sync/images/0000000000.png scan not found\n",
      "D:/kitti_dataset/data/2011_09_26_drive_0015_sync/images/0000000001.png scan not found\n",
      "D:/kitti_dataset/data/2011_09_26_drive_0015_sync/images/0000000002.png scan not found\n",
      "D:/kitti_dataset/data/2011_09_26_drive_0015_sync/images/0000000003.png scan not found\n",
      "D:/kitti_dataset/data/2011_09_26_drive_0015_sync/images/0000000004.png scan not found\n",
      "D:/kitti_dataset/data/2011_09_26_drive_0015_sync/images/0000000292.png scan not found\n",
      "D:/kitti_dataset/data/2011_09_26_drive_0015_sync/images/0000000293.png scan not found\n",
      "D:/kitti_dataset/data/2011_09_26_drive_0015_sync/images/0000000294.png scan not found\n",
      "D:/kitti_dataset/data/2011_09_26_drive_0015_sync/images/0000000295.png scan not found\n",
      "D:/kitti_dataset/data/2011_09_26_drive_0015_sync/images/0000000296.png scan not found\n",
      "D:/kitti_dataset/data/2011_09_26_drive_0027_sync/images/0000000000.png scan not found\n",
      "D:/kitti_dataset/data/2011_09_26_drive_0027_sync/images/0000000001.png scan not found\n",
      "D:/kitti_dataset/data/2011_09_26_drive_0027_sync/images/0000000002.png scan not found\n",
      "D:/kitti_dataset/data/2011_09_26_drive_0027_sync/images/0000000003.png scan not found\n",
      "D:/kitti_dataset/data/2011_09_26_drive_0027_sync/images/0000000004.png scan not found\n",
      "D:/kitti_dataset/data/2011_09_26_drive_0027_sync/images/0000000183.png scan not found\n",
      "D:/kitti_dataset/data/2011_09_26_drive_0027_sync/images/0000000184.png scan not found\n",
      "D:/kitti_dataset/data/2011_09_26_drive_0027_sync/images/0000000185.png scan not found\n",
      "D:/kitti_dataset/data/2011_09_26_drive_0027_sync/images/0000000186.png scan not found\n",
      "D:/kitti_dataset/data/2011_09_26_drive_0027_sync/images/0000000187.png scan not found\n",
      "D:/kitti_dataset/data/2011_09_26_drive_0028_sync/images/0000000000.png scan not found\n",
      "D:/kitti_dataset/data/2011_09_26_drive_0028_sync/images/0000000001.png scan not found\n",
      "D:/kitti_dataset/data/2011_09_26_drive_0028_sync/images/0000000002.png scan not found\n",
      "D:/kitti_dataset/data/2011_09_26_drive_0028_sync/images/0000000003.png scan not found\n",
      "D:/kitti_dataset/data/2011_09_26_drive_0028_sync/images/0000000004.png scan not found\n",
      "D:/kitti_dataset/data/2011_09_26_drive_0028_sync/images/0000000425.png scan not found\n",
      "D:/kitti_dataset/data/2011_09_26_drive_0028_sync/images/0000000426.png scan not found\n",
      "D:/kitti_dataset/data/2011_09_26_drive_0028_sync/images/0000000427.png scan not found\n",
      "D:/kitti_dataset/data/2011_09_26_drive_0028_sync/images/0000000428.png scan not found\n",
      "D:/kitti_dataset/data/2011_09_26_drive_0028_sync/images/0000000429.png scan not found\n",
      "D:/kitti_dataset/data/2011_09_26_drive_0029_sync/images/0000000000.png scan not found\n",
      "D:/kitti_dataset/data/2011_09_26_drive_0029_sync/images/0000000001.png scan not found\n",
      "D:/kitti_dataset/data/2011_09_26_drive_0029_sync/images/0000000002.png scan not found\n",
      "D:/kitti_dataset/data/2011_09_26_drive_0029_sync/images/0000000003.png scan not found\n",
      "D:/kitti_dataset/data/2011_09_26_drive_0029_sync/images/0000000004.png scan not found\n",
      "D:/kitti_dataset/data/2011_09_26_drive_0029_sync/images/0000000425.png scan not found\n",
      "D:/kitti_dataset/data/2011_09_26_drive_0029_sync/images/0000000426.png scan not found\n",
      "D:/kitti_dataset/data/2011_09_26_drive_0029_sync/images/0000000427.png scan not found\n",
      "D:/kitti_dataset/data/2011_09_26_drive_0029_sync/images/0000000428.png scan not found\n",
      "D:/kitti_dataset/data/2011_09_26_drive_0029_sync/images/0000000429.png scan not found\n",
      "D:/kitti_dataset/data/2011_09_26_drive_0032_sync/images/0000000000.png scan not found\n",
      "D:/kitti_dataset/data/2011_09_26_drive_0032_sync/images/0000000001.png scan not found\n",
      "D:/kitti_dataset/data/2011_09_26_drive_0032_sync/images/0000000002.png scan not found\n",
      "D:/kitti_dataset/data/2011_09_26_drive_0032_sync/images/0000000003.png scan not found\n",
      "D:/kitti_dataset/data/2011_09_26_drive_0032_sync/images/0000000004.png scan not found\n",
      "D:/kitti_dataset/data/2011_09_26_drive_0032_sync/images/0000000385.png scan not found\n",
      "D:/kitti_dataset/data/2011_09_26_drive_0032_sync/images/0000000386.png scan not found\n",
      "D:/kitti_dataset/data/2011_09_26_drive_0032_sync/images/0000000387.png scan not found\n",
      "D:/kitti_dataset/data/2011_09_26_drive_0032_sync/images/0000000388.png scan not found\n",
      "D:/kitti_dataset/data/2011_09_26_drive_0032_sync/images/0000000389.png scan not found\n",
      "D:/kitti_dataset/data/2011_09_26_drive_0052_sync/images/0000000000.png scan not found\n",
      "D:/kitti_dataset/data/2011_09_26_drive_0052_sync/images/0000000001.png scan not found\n",
      "D:/kitti_dataset/data/2011_09_26_drive_0052_sync/images/0000000002.png scan not found\n",
      "D:/kitti_dataset/data/2011_09_26_drive_0052_sync/images/0000000003.png scan not found\n",
      "D:/kitti_dataset/data/2011_09_26_drive_0052_sync/images/0000000004.png scan not found\n",
      "D:/kitti_dataset/data/2011_09_26_drive_0052_sync/images/0000000073.png scan not found\n",
      "D:/kitti_dataset/data/2011_09_26_drive_0052_sync/images/0000000074.png scan not found\n",
      "D:/kitti_dataset/data/2011_09_26_drive_0052_sync/images/0000000075.png scan not found\n",
      "D:/kitti_dataset/data/2011_09_26_drive_0052_sync/images/0000000076.png scan not found\n",
      "D:/kitti_dataset/data/2011_09_26_drive_0052_sync/images/0000000077.png scan not found\n",
      "D:/kitti_dataset/data/2011_09_26_drive_0070_sync/images/0000000000.png scan not found\n",
      "D:/kitti_dataset/data/2011_09_26_drive_0070_sync/images/0000000001.png scan not found\n",
      "D:/kitti_dataset/data/2011_09_26_drive_0070_sync/images/0000000002.png scan not found\n",
      "D:/kitti_dataset/data/2011_09_26_drive_0070_sync/images/0000000003.png scan not found\n",
      "D:/kitti_dataset/data/2011_09_26_drive_0070_sync/images/0000000004.png scan not found\n",
      "D:/kitti_dataset/data/2011_09_26_drive_0070_sync/images/0000000415.png scan not found\n",
      "D:/kitti_dataset/data/2011_09_26_drive_0070_sync/images/0000000416.png scan not found\n",
      "D:/kitti_dataset/data/2011_09_26_drive_0070_sync/images/0000000417.png scan not found\n",
      "D:/kitti_dataset/data/2011_09_26_drive_0070_sync/images/0000000418.png scan not found\n",
      "D:/kitti_dataset/data/2011_09_26_drive_0070_sync/images/0000000419.png scan not found\n",
      "D:/kitti_dataset/data/2011_09_26_drive_0101_sync/images/0000000000.png scan not found\n",
      "D:/kitti_dataset/data/2011_09_26_drive_0101_sync/images/0000000001.png scan not found\n",
      "D:/kitti_dataset/data/2011_09_26_drive_0101_sync/images/0000000002.png scan not found\n",
      "D:/kitti_dataset/data/2011_09_26_drive_0101_sync/images/0000000003.png scan not found\n",
      "D:/kitti_dataset/data/2011_09_26_drive_0101_sync/images/0000000004.png scan not found\n",
      "D:/kitti_dataset/data/2011_09_26_drive_0101_sync/images/0000000931.png scan not found\n",
      "D:/kitti_dataset/data/2011_09_26_drive_0101_sync/images/0000000932.png scan not found\n",
      "D:/kitti_dataset/data/2011_09_26_drive_0101_sync/images/0000000933.png scan not found\n",
      "D:/kitti_dataset/data/2011_09_26_drive_0101_sync/images/0000000934.png scan not found\n",
      "D:/kitti_dataset/data/2011_09_26_drive_0101_sync/images/0000000935.png scan not found\n",
      "D:/kitti_dataset/data/2011_09_29_drive_0004_sync/images/0000000000.png scan not found\n",
      "D:/kitti_dataset/data/2011_09_29_drive_0004_sync/images/0000000001.png scan not found\n",
      "D:/kitti_dataset/data/2011_09_29_drive_0004_sync/images/0000000002.png scan not found\n",
      "D:/kitti_dataset/data/2011_09_29_drive_0004_sync/images/0000000003.png scan not found\n",
      "D:/kitti_dataset/data/2011_09_29_drive_0004_sync/images/0000000004.png scan not found\n",
      "D:/kitti_dataset/data/2011_09_29_drive_0004_sync/images/0000000334.png scan not found\n",
      "D:/kitti_dataset/data/2011_09_29_drive_0004_sync/images/0000000335.png scan not found\n",
      "D:/kitti_dataset/data/2011_09_29_drive_0004_sync/images/0000000336.png scan not found\n",
      "D:/kitti_dataset/data/2011_09_29_drive_0004_sync/images/0000000337.png scan not found\n",
      "D:/kitti_dataset/data/2011_09_29_drive_0004_sync/images/0000000338.png scan not found\n",
      "D:/kitti_dataset/data/2011_09_30_drive_0016_sync/images/0000000000.png scan not found\n",
      "D:/kitti_dataset/data/2011_09_30_drive_0016_sync/images/0000000001.png scan not found\n",
      "D:/kitti_dataset/data/2011_09_30_drive_0016_sync/images/0000000002.png scan not found\n",
      "D:/kitti_dataset/data/2011_09_30_drive_0016_sync/images/0000000003.png scan not found\n",
      "D:/kitti_dataset/data/2011_09_30_drive_0016_sync/images/0000000004.png scan not found\n",
      "D:/kitti_dataset/data/2011_09_30_drive_0016_sync/images/0000000274.png scan not found\n",
      "D:/kitti_dataset/data/2011_09_30_drive_0016_sync/images/0000000275.png scan not found\n",
      "D:/kitti_dataset/data/2011_09_30_drive_0016_sync/images/0000000276.png scan not found\n",
      "D:/kitti_dataset/data/2011_09_30_drive_0016_sync/images/0000000277.png scan not found\n",
      "D:/kitti_dataset/data/2011_09_30_drive_0016_sync/images/0000000278.png scan not found\n",
      "D:/kitti_dataset/data/2011_10_03_drive_0042_sync/images/0000000000.png scan not found\n",
      "D:/kitti_dataset/data/2011_10_03_drive_0042_sync/images/0000000001.png scan not found\n",
      "D:/kitti_dataset/data/2011_10_03_drive_0042_sync/images/0000000002.png scan not found\n",
      "D:/kitti_dataset/data/2011_10_03_drive_0042_sync/images/0000000003.png scan not found\n",
      "D:/kitti_dataset/data/2011_10_03_drive_0042_sync/images/0000000004.png scan not found\n",
      "D:/kitti_dataset/data/2011_10_03_drive_0042_sync/images/0000001165.png scan not found\n",
      "D:/kitti_dataset/data/2011_10_03_drive_0042_sync/images/0000001166.png scan not found\n",
      "D:/kitti_dataset/data/2011_10_03_drive_0042_sync/images/0000001167.png scan not found\n",
      "D:/kitti_dataset/data/2011_10_03_drive_0042_sync/images/0000001168.png scan not found\n",
      "D:/kitti_dataset/data/2011_10_03_drive_0042_sync/images/0000001169.png scan not found\n",
      "D:/kitti_dataset/data/2011_10_03_drive_0047_sync/images/0000000000.png scan not found\n",
      "D:/kitti_dataset/data/2011_10_03_drive_0047_sync/images/0000000001.png scan not found\n",
      "D:/kitti_dataset/data/2011_10_03_drive_0047_sync/images/0000000002.png scan not found\n",
      "D:/kitti_dataset/data/2011_10_03_drive_0047_sync/images/0000000003.png scan not found\n",
      "D:/kitti_dataset/data/2011_10_03_drive_0047_sync/images/0000000004.png scan not found\n",
      "D:/kitti_dataset/data/2011_10_03_drive_0047_sync/images/0000000832.png scan not found\n",
      "D:/kitti_dataset/data/2011_10_03_drive_0047_sync/images/0000000833.png scan not found\n",
      "D:/kitti_dataset/data/2011_10_03_drive_0047_sync/images/0000000834.png scan not found\n",
      "D:/kitti_dataset/data/2011_10_03_drive_0047_sync/images/0000000835.png scan not found\n",
      "D:/kitti_dataset/data/2011_10_03_drive_0047_sync/images/0000000836.png scan not found\n"
     ]
    }
   ],
   "source": [
    "for filename in glob.glob(\"D:/kitti_dataset/data/*/images/*.png\"):\n",
    "    filename = filename.replace(os.sep, \"/\")\n",
    "    depth_filename = filename.replace(\"images\", \"scans\")\n",
    "    folder = filename.split(\"/\")[-3]\n",
    "    file = (filename.split(\"/\")[-1]).rsplit(\".\")[0]\n",
    "    if not os.path.isfile(depth_filename):\n",
    "        print(filename, \"scan not found\")\n",
    "        continue\n",
    "    if not os.path.isdir(f\"D:/kitti_dataset/train/kitti_train/{folder}\"):\n",
    "        os.makedirs(f\"D:/kitti_dataset/train/kitti_train/{folder}\", exist_ok=True)\n",
    "    image = cv2.imread(filename)\n",
    "    depth = cv2.imread(depth_filename)\n",
    "    mask = cv2.inRange(depth[135:,440:760], (0), (0))\n",
    "    dst = cv2.inpaint(depth[135:,440:760], mask, 3, cv2.INPAINT_TELEA)\n",
    "    cv2.imwrite(f\"D:/kitti_dataset/train/kitti_train/{folder}/{file}.jpg\", image[135:,440:760])\n",
    "    cv2.imwrite(f\"D:/kitti_dataset/train/kitti_train/{folder}/{file}.png\", dst)"
   ]
  },
  {
   "cell_type": "code",
   "execution_count": 4,
   "id": "102af0f2-a96a-45a1-99dc-cb49a7fd4965",
   "metadata": {},
   "outputs": [],
   "source": [
    "%run utils/datasets.ipynb"
   ]
  },
  {
   "cell_type": "code",
   "execution_count": 5,
   "id": "b2075b51-eac0-4705-acf0-611fedb4fa76",
   "metadata": {},
   "outputs": [],
   "source": [
    "write_csv(\"D:/kitti_dataset/train/kitti_train.csv\", \"/*/*.jpg\", (\".jpg\", \".png\"))"
   ]
  },
  {
   "cell_type": "code",
   "execution_count": 6,
   "id": "a5d9f4f3-5e79-4d68-a193-6ae4329bc27a",
   "metadata": {},
   "outputs": [],
   "source": [
    "for filename in glob.glob(\"D:/kitti_dataset/train/kitti_train/*/*\"):\n",
    "    image = cv2.imread(filename)\n",
    "    h, w, _ = image.shape\n",
    "    if h != 240 or w != 320:\n",
    "        image = cv2.resize(image, (320, 240))\n",
    "        cv2.imwrite(filename, image)"
   ]
  },
  {
   "cell_type": "code",
   "execution_count": 7,
   "id": "24e76677-797e-41b1-936c-2736849385e1",
   "metadata": {},
   "outputs": [
    {
     "name": "stdout",
     "output_type": "stream",
     "text": [
      "0 101\n"
     ]
    }
   ],
   "source": [
    "mind = np.inf\n",
    "maxd = -np.inf\n",
    "\n",
    "for filename in glob.glob(\"D:/kitti_dataset/train/kitti_train/*/*.png\"):\n",
    "    image = cv2.imread(filename)\n",
    "    mind = min(mind, np.min(image))\n",
    "    maxd = max(maxd, np.max(image))\n",
    "\n",
    "print(mind, maxd)"
   ]
  }
 ],
 "metadata": {
  "kernelspec": {
   "display_name": "Python 3 (ipykernel)",
   "language": "python",
   "name": "python3"
  },
  "language_info": {
   "codemirror_mode": {
    "name": "ipython",
    "version": 3
   },
   "file_extension": ".py",
   "mimetype": "text/x-python",
   "name": "python",
   "nbconvert_exporter": "python",
   "pygments_lexer": "ipython3",
   "version": "3.9.18"
  }
 },
 "nbformat": 4,
 "nbformat_minor": 5
}
