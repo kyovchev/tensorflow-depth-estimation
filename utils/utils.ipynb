{
 "cells": [
  {
   "cell_type": "code",
   "execution_count": 1,
   "id": "fb8b9de1-dcf6-450e-909d-e98c9c23e64b",
   "metadata": {},
   "outputs": [],
   "source": [
    "INIT_LEARNING_RATE = 0.0001"
   ]
  },
  {
   "cell_type": "code",
   "execution_count": 2,
   "id": "e081cff6-6e54-4afe-9b92-2ac2aeada640",
   "metadata": {},
   "outputs": [],
   "source": [
    "import csv\n",
    "import random\n",
    "import matplotlib.pyplot as plt\n",
    "from datetime import datetime\n",
    "from tensorflow.keras.utils import Sequence\n",
    "from tensorflow.keras.optimizers import Adam\n",
    "import tensorflow.keras.backend as K"
   ]
  },
  {
   "cell_type": "code",
   "execution_count": 3,
   "id": "a7d037f9-0b2c-4b95-bbfe-fe9494d0b53d",
   "metadata": {},
   "outputs": [],
   "source": [
    "def train_val_split(train_paths, val_size):\n",
    "    random.shuffle(train_paths)\n",
    "    len_train_paths = len(train_paths)\n",
    "    i = int(len_train_paths * (1.0 - val_size))\n",
    "    train = train_paths[0:i]\n",
    "    val = train_paths[i:len(train_paths)]\n",
    "    return train, val"
   ]
  },
  {
   "cell_type": "code",
   "execution_count": 4,
   "id": "ddec0c11-cd33-48c4-abd2-d5ae56e88ba1",
   "metadata": {},
   "outputs": [],
   "source": [
    "def load_train_csv(train_path):\n",
    "    train_paths = read_csv(train_path)\n",
    "    labels = {img_path: dm_path for img_path, dm_path in train_paths}\n",
    "    x_paths = [img_path for img_path, dm in train_paths]\n",
    "    x_train_paths, x_val_paths = train_val_split(x_paths, 0.2)\n",
    "\n",
    "    partition = {\n",
    "        'train': x_train_paths,\n",
    "        'validation': x_val_paths\n",
    "    }\n",
    "    return partition, labels"
   ]
  },
  {
   "cell_type": "code",
   "execution_count": 5,
   "id": "dd8634d0-8f6c-4049-95e7-ec5c2d4b8095",
   "metadata": {},
   "outputs": [],
   "source": [
    "def plot_history(history):    \n",
    "    plt.plot(history['loss'],          label='loss')\n",
    "    plt.plot(history['val_loss'],      label='val_loss')\n",
    "    plt.plot(history['depth_acc'],     label='acc')\n",
    "    plt.plot(history['val_depth_acc'], label='val_acc')\n",
    "    plt.legend()\n",
    "    plt.show()"
   ]
  },
  {
   "cell_type": "code",
   "execution_count": 6,
   "id": "44401a8e-3dbc-4fd5-ace3-75d72e7f7d23",
   "metadata": {},
   "outputs": [],
   "source": [
    "def save_model(type, model):\n",
    "    name = 'model_{}_{}.keras'.format(type, int(datetime.timestamp(datetime.now())))\n",
    "    model.save(name)\n",
    "    return name"
   ]
  },
  {
   "cell_type": "code",
   "execution_count": 7,
   "id": "b99774ec-45e4-4263-9aae-5d0f1f2f1224",
   "metadata": {},
   "outputs": [],
   "source": [
    "opt = Adam(learning_rate=INIT_LEARNING_RATE, amsgrad=True)"
   ]
  },
  {
   "cell_type": "code",
   "execution_count": 8,
   "id": "1616e442-1e0e-4dc0-bfb4-158f3309ac4e",
   "metadata": {},
   "outputs": [],
   "source": [
    "def gen_depth_loss(y_true, y_pred, params=(1.0,1.0,0.1)):\n",
    "    w1, w2, w3 = params\n",
    "    \n",
    "    l_depth = K.mean(K.abs(y_pred - y_true), axis=-1)\n",
    "    \n",
    "    dy_true, dx_true = tf.image.image_gradients(y_true)\n",
    "    dy_pred, dx_pred = tf.image.image_gradients(y_pred)\n",
    "    l_edges = K.mean(K.abs(dy_pred - dy_true) + K.abs(dx_pred - dx_true), axis=-1)\n",
    "    \n",
    "    l_ssim = K.clip((1 - tf.image.ssim(y_true, y_pred, 1.0)) * 0.5, 0, 1)\n",
    "    \n",
    "    return (w1 * l_ssim) + (w2 * K.mean(l_edges)) + (w3 * K.mean(l_depth))"
   ]
  },
  {
   "cell_type": "code",
   "execution_count": 9,
   "id": "3f653a64-3c76-48f7-b0c1-ce3c666d22a4",
   "metadata": {},
   "outputs": [],
   "source": [
    "def depth_acc(y_true, y_pred):\n",
    "    return K.mean(K.equal(K.round(y_true), K.round(y_pred)))"
   ]
  },
  {
   "cell_type": "code",
   "execution_count": 10,
   "id": "c2d247be-a03c-4374-b4ce-f85a5a1f2d13",
   "metadata": {},
   "outputs": [],
   "source": [
    "class DataGenerator(Sequence):\n",
    "    def __init__(self, list_IDs, labels, batch_size=16, dim=(128,128),\n",
    "                 n_channels=3, shuffle=True, pred=False):\n",
    "        self.dim = dim\n",
    "        self.batch_size = batch_size\n",
    "        self.labels = labels\n",
    "        self.list_IDs = list_IDs\n",
    "        self.n_channels = n_channels\n",
    "        self.shuffle = shuffle\n",
    "        self.pred = pred\n",
    "        self.on_epoch_end()\n",
    "\n",
    "    def __len__(self):\n",
    "        return int(np.floor(len(self.list_IDs) / self.batch_size))\n",
    "\n",
    "    def __getitem__(self, index):\n",
    "        indexes = self.indexes[index * self.batch_size : (index + 1) * self.batch_size]\n",
    "        list_IDs_temp = [self.list_IDs[k] for k in indexes]\n",
    "        if self.pred:\n",
    "            X = self.__data_generation(list_IDs_temp)\n",
    "            return X\n",
    "        X, y = self.__data_generation(list_IDs_temp)\n",
    "        return X, y\n",
    "\n",
    "    def on_epoch_end(self):\n",
    "        self.indexes = np.arange(len(self.list_IDs))\n",
    "        if self.shuffle == True:\n",
    "            np.random.shuffle(self.indexes)\n",
    "\n",
    "    def __data_generation(self, list_IDs_temp):\n",
    "        X = np.empty((self.batch_size, self.dim[0], self.dim[1], self.n_channels))\n",
    "        \n",
    "        if not self.pred:\n",
    "            y = np.empty((self.batch_size, self.dim[0], self.dim[1], 1))\n",
    "        \n",
    "            for i, ID in enumerate(list_IDs_temp):\n",
    "                res = random.choice([True, False])\n",
    "                X[i,] = preprocess_image(ID, self.dim[0], self.dim[1], False, res)\n",
    "                y[i,] = preprocess_image(self.labels[ID], self.dim[0], self.dim[1], True, res)\n",
    "            return X, y\n",
    "        else:\n",
    "            for i, ID in enumerate(list_IDs_temp):\n",
    "                res = random.choice([True, False])\n",
    "                X[i,] = preprocess_image(ID, self.dim[0], self.dim[1], False, res)\n",
    "            return X"
   ]
  }
 ],
 "metadata": {
  "kernelspec": {
   "display_name": "Python 3 (ipykernel)",
   "language": "python",
   "name": "python3"
  },
  "language_info": {
   "codemirror_mode": {
    "name": "ipython",
    "version": 3
   },
   "file_extension": ".py",
   "mimetype": "text/x-python",
   "name": "python",
   "nbconvert_exporter": "python",
   "pygments_lexer": "ipython3",
   "version": "3.9.18"
  }
 },
 "nbformat": 4,
 "nbformat_minor": 5
}
